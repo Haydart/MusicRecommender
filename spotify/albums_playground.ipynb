{
 "cells": [
  {
   "cell_type": "code",
   "execution_count": 3,
   "metadata": {},
   "outputs": [
    {
     "name": "stdout",
     "output_type": "stream",
     "text": [
      "/Users/r.makowiecki/PycharmProjects/MusicRecommendation\n"
     ]
    }
   ],
   "source": [
    "%cd /Users/r.makowiecki/PycharmProjects/MusicRecommendation/\n",
    "import pandas as pd\n",
    "from spotify.spotify_client import SpotifyClient\n"
   ]
  },
  {
   "cell_type": "code",
   "execution_count": 5,
   "metadata": {},
   "outputs": [
    {
     "name": "stdout",
     "output_type": "stream",
     "text": [
      "746148 albums before deduplication\n",
      "716885 albums after deduplication\n"
     ]
    }
   ],
   "source": [
    "albums_df = pd.read_csv(\"output/spotify_artists_albums_uris_output.csv\")\n",
    "print(f'{len(albums_df)} albums before deduplication')\n",
    "albums_df = albums_df.drop_duplicates(subset=['album_uri'])\n",
    "print(f'{len(albums_df)} albums after deduplication')"
   ]
  },
  {
   "cell_type": "code",
   "execution_count": 15,
   "metadata": {},
   "outputs": [
    {
     "data": {
      "text/plain": [
       "['spotify:album:4ySF5HLRZZlPJUt6FVSsP2',\n",
       " 'spotify:album:5RfG1YgvLbQsIVTENsHm9F',\n",
       " 'spotify:album:3j5STTiYAhXmIAJbj9NQcK',\n",
       " 'spotify:album:2xMScqxB2bI4HSE7lfGPL4',\n",
       " 'spotify:album:0MvpZg6cGG2yaWVZbdX4Gj',\n",
       " 'spotify:album:2fQjPzqyXroNcPw21TgXsU',\n",
       " 'spotify:album:2qdVdvMJgF8StBh9YigWet',\n",
       " 'spotify:album:0SQQNNkk5e8dIuamdvpeTd',\n",
       " 'spotify:album:1APLL3BxSZiYpMQ4v15Ao1',\n",
       " 'spotify:album:73V37JUsjK8ejSN84QzS5Y',\n",
       " 'spotify:album:5hdd4NENZ2NuPJfRPR4A3S',\n",
       " 'spotify:album:1KKjRDh46GJUt9xXgnjwCR',\n",
       " 'spotify:album:6Ye7dwg8mZG7ZhUCIO2VB9',\n",
       " 'spotify:album:3JGet0046fRqoC2vSlvp1E',\n",
       " 'spotify:album:4KLBiEP151q6G09tgJEhlt',\n",
       " 'spotify:album:02rNZXaI6I1ttkjBbpI45G',\n",
       " 'spotify:album:4r67lLaJer90UITuOvwDk2',\n",
       " 'spotify:album:3WiQIMtGxwgQ7HNF26yEvN',\n",
       " 'spotify:album:60hCG4zoRBEmMQZv73ED4y',\n",
       " 'spotify:album:6CLsRecPYwo1qWaxotk7sx']"
      ]
     },
     "metadata": {},
     "output_type": "display_data"
    }
   ],
   "source": [
    "album_count_limit = 20\n",
    "client = SpotifyClient()\n",
    "result = []\n",
    "index = 0\n",
    "\n",
    "# for i in range(0, len(albums_df.index), album_count_limit):\n",
    "display(albums_df['album_uri'].iloc[0:20,].values.tolist())\n",
    "\n",
    "\n",
    "# print(client.fetch_albums_tracks(albums_df['album_uri'].iloc[0:20,:]))\n"
   ]
  },
  {
   "cell_type": "code",
   "execution_count": null,
   "metadata": {},
   "outputs": [],
   "source": []
  }
 ],
 "metadata": {
  "kernelspec": {
   "display_name": "Python 3",
   "language": "python",
   "name": "python3"
  },
  "language_info": {
   "codemirror_mode": {
    "name": "ipython",
    "version": 3
   },
   "file_extension": ".py",
   "mimetype": "text/x-python",
   "name": "python",
   "nbconvert_exporter": "python",
   "pygments_lexer": "ipython3",
   "version": "3.7.0"
  }
 },
 "nbformat": 4,
 "nbformat_minor": 1
}
